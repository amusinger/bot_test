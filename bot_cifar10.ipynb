{
 "cells": [
  {
   "cell_type": "markdown",
   "metadata": {},
   "source": [
    "# BOT"
   ]
  },
  {
   "cell_type": "code",
   "execution_count": 3,
   "metadata": {},
   "outputs": [
    {
     "name": "stderr",
     "output_type": "stream",
     "text": [
      "/Users/aizhan/.virtualenvs/prep/lib/python3.6/site-packages/h5py/__init__.py:36: FutureWarning: Conversion of the second argument of issubdtype from `float` to `np.floating` is deprecated. In future, it will be treated as `np.float64 == np.dtype(float).type`.\n",
      "  from ._conv import register_converters as _register_converters\n",
      "Using TensorFlow backend.\n"
     ]
    }
   ],
   "source": [
    "import keras\n",
    "from keras.datasets import cifar10\n",
    "\n",
    "num_classes = 10\n",
    "\n",
    "(x_train, y_train), (x_test, y_test) = cifar10.load_data()\n",
    "\n",
    "y_train = keras.utils.to_categorical(y_train, num_classes)\n",
    "y_test = keras.utils.to_categorical(y_test, num_classes)"
   ]
  },
  {
   "cell_type": "code",
   "execution_count": 4,
   "metadata": {},
   "outputs": [
    {
     "name": "stdout",
     "output_type": "stream",
     "text": [
      "_________________________________________________________________\n",
      "Layer (type)                 Output Shape              Param #   \n",
      "=================================================================\n",
      "input_1 (InputLayer)         (None, None, None, 3)     0         \n",
      "_________________________________________________________________\n",
      "block1_conv1 (Conv2D)        (None, None, None, 64)    1792      \n",
      "_________________________________________________________________\n",
      "block1_conv2 (Conv2D)        (None, None, None, 64)    36928     \n",
      "_________________________________________________________________\n",
      "block1_pool (MaxPooling2D)   (None, None, None, 64)    0         \n",
      "_________________________________________________________________\n",
      "block2_conv1 (Conv2D)        (None, None, None, 128)   73856     \n",
      "_________________________________________________________________\n",
      "block2_conv2 (Conv2D)        (None, None, None, 128)   147584    \n",
      "_________________________________________________________________\n",
      "block2_pool (MaxPooling2D)   (None, None, None, 128)   0         \n",
      "_________________________________________________________________\n",
      "block3_conv1 (Conv2D)        (None, None, None, 256)   295168    \n",
      "_________________________________________________________________\n",
      "block3_conv2 (Conv2D)        (None, None, None, 256)   590080    \n",
      "_________________________________________________________________\n",
      "block3_conv3 (Conv2D)        (None, None, None, 256)   590080    \n",
      "_________________________________________________________________\n",
      "block3_conv4 (Conv2D)        (None, None, None, 256)   590080    \n",
      "_________________________________________________________________\n",
      "block3_pool (MaxPooling2D)   (None, None, None, 256)   0         \n",
      "_________________________________________________________________\n",
      "block4_conv1 (Conv2D)        (None, None, None, 512)   1180160   \n",
      "_________________________________________________________________\n",
      "block4_conv2 (Conv2D)        (None, None, None, 512)   2359808   \n",
      "_________________________________________________________________\n",
      "block4_conv3 (Conv2D)        (None, None, None, 512)   2359808   \n",
      "_________________________________________________________________\n",
      "block4_conv4 (Conv2D)        (None, None, None, 512)   2359808   \n",
      "_________________________________________________________________\n",
      "block4_pool (MaxPooling2D)   (None, None, None, 512)   0         \n",
      "_________________________________________________________________\n",
      "block5_conv1 (Conv2D)        (None, None, None, 512)   2359808   \n",
      "_________________________________________________________________\n",
      "block5_conv2 (Conv2D)        (None, None, None, 512)   2359808   \n",
      "_________________________________________________________________\n",
      "block5_conv3 (Conv2D)        (None, None, None, 512)   2359808   \n",
      "_________________________________________________________________\n",
      "block5_conv4 (Conv2D)        (None, None, None, 512)   2359808   \n",
      "_________________________________________________________________\n",
      "block5_pool (MaxPooling2D)   (None, None, None, 512)   0         \n",
      "=================================================================\n",
      "Total params: 20,024,384\n",
      "Trainable params: 20,024,384\n",
      "Non-trainable params: 0\n",
      "_________________________________________________________________\n"
     ]
    }
   ],
   "source": [
    "from keras import applications\n",
    "vgg_model = applications.VGG19(include_top=False, weights='imagenet')\n",
    "vgg_model.summary()"
   ]
  },
  {
   "cell_type": "code",
   "execution_count": 5,
   "metadata": {},
   "outputs": [
    {
     "name": "stdout",
     "output_type": "stream",
     "text": [
      "50000/50000 [==============================] - 582s 12ms/step\n",
      "10000/10000 [==============================] - 111s 11ms/step\n"
     ]
    }
   ],
   "source": [
    "bottleneck_features_train = vgg_model.predict(x_train, verbose=1)\n",
    "bottleneck_features_test = vgg_model.predict(x_test, verbose=1)"
   ]
  },
  {
   "cell_type": "code",
   "execution_count": 6,
   "metadata": {},
   "outputs": [],
   "source": [
    "from keras.models import Sequential\n",
    "from keras.layers import Dense, Dropout, Flatten\n",
    "from keras.layers import Conv2D, MaxPooling2D\n",
    "\n",
    "clf_model = Sequential()\n",
    "clf_model.add(Flatten(input_shape=bottleneck_features_train.shape[1:]))\n",
    "clf_model.add(Dense(512, activation='relu'))\n",
    "clf_model.add(Dropout(0.5))\n",
    "clf_model.add(Dense(256, activation='relu'))\n",
    "clf_model.add(Dropout(0.5))\n",
    "clf_model.add(Dense(num_classes, activation='softmax'))\n",
    "clf_model.compile(loss=keras.losses.categorical_crossentropy,\n",
    "optimizer=keras.optimizers.Adadelta(),\n",
    "metrics=['accuracy'])"
   ]
  },
  {
   "cell_type": "code",
   "execution_count": 7,
   "metadata": {},
   "outputs": [
    {
     "name": "stdout",
     "output_type": "stream",
     "text": [
      "Epoch 1/50\n",
      "50000/50000 [==============================] - 6s 113us/step - loss: 4.7220 - acc: 0.2880\n",
      "Epoch 2/50\n",
      "50000/50000 [==============================] - 5s 109us/step - loss: 1.8124 - acc: 0.3797\n",
      "Epoch 3/50\n",
      "50000/50000 [==============================] - 6s 111us/step - loss: 1.6397 - acc: 0.4371\n",
      "Epoch 4/50\n",
      "50000/50000 [==============================] - 5s 109us/step - loss: 1.5470 - acc: 0.4729\n",
      "Epoch 5/50\n",
      "50000/50000 [==============================] - 5s 109us/step - loss: 1.4856 - acc: 0.4954\n",
      "Epoch 6/50\n",
      "50000/50000 [==============================] - 5s 109us/step - loss: 1.4363 - acc: 0.5136\n",
      "Epoch 7/50\n",
      "50000/50000 [==============================] - 5s 110us/step - loss: 1.3998 - acc: 0.5286\n",
      "Epoch 8/50\n",
      "50000/50000 [==============================] - 6s 110us/step - loss: 1.3758 - acc: 0.5386\n",
      "Epoch 9/50\n",
      "50000/50000 [==============================] - 6s 111us/step - loss: 1.3441 - acc: 0.5502\n",
      "Epoch 10/50\n",
      "50000/50000 [==============================] - 6s 111us/step - loss: 1.3273 - acc: 0.5564\n",
      "Epoch 11/50\n",
      "50000/50000 [==============================] - 6s 110us/step - loss: 1.3101 - acc: 0.5656\n",
      "Epoch 12/50\n",
      "50000/50000 [==============================] - 6s 111us/step - loss: 1.2871 - acc: 0.5726\n",
      "Epoch 13/50\n",
      "50000/50000 [==============================] - 6s 111us/step - loss: 1.2762 - acc: 0.5757\n",
      "Epoch 14/50\n",
      "50000/50000 [==============================] - 6s 111us/step - loss: 1.2626 - acc: 0.5827\n",
      "Epoch 15/50\n",
      "50000/50000 [==============================] - 6s 112us/step - loss: 1.2447 - acc: 0.5873\n",
      "Epoch 16/50\n",
      "50000/50000 [==============================] - 6s 112us/step - loss: 1.2326 - acc: 0.5958\n",
      "Epoch 17/50\n",
      "50000/50000 [==============================] - 6s 112us/step - loss: 1.2181 - acc: 0.5995\n",
      "Epoch 18/50\n",
      "50000/50000 [==============================] - 6s 113us/step - loss: 1.2108 - acc: 0.6012\n",
      "Epoch 19/50\n",
      "50000/50000 [==============================] - 6s 112us/step - loss: 1.1999 - acc: 0.6054\n",
      "Epoch 20/50\n",
      "50000/50000 [==============================] - 6s 113us/step - loss: 1.1801 - acc: 0.6134\n",
      "Epoch 21/50\n",
      "50000/50000 [==============================] - 6s 113us/step - loss: 1.1732 - acc: 0.6124\n",
      "Epoch 22/50\n",
      "50000/50000 [==============================] - 6s 113us/step - loss: 1.1665 - acc: 0.6151\n",
      "Epoch 23/50\n",
      "50000/50000 [==============================] - 6s 113us/step - loss: 1.1582 - acc: 0.6174\n",
      "Epoch 24/50\n",
      "50000/50000 [==============================] - 6s 115us/step - loss: 1.1438 - acc: 0.6249\n",
      "Epoch 25/50\n",
      "50000/50000 [==============================] - 6s 115us/step - loss: 1.1375 - acc: 0.6277\n",
      "Epoch 26/50\n",
      "50000/50000 [==============================] - 6s 115us/step - loss: 1.1284 - acc: 0.6291\n",
      "Epoch 27/50\n",
      "50000/50000 [==============================] - 6s 115us/step - loss: 1.1219 - acc: 0.6329\n",
      "Epoch 28/50\n",
      "50000/50000 [==============================] - 6s 114us/step - loss: 1.1092 - acc: 0.6351\n",
      "Epoch 29/50\n",
      "50000/50000 [==============================] - 6s 115us/step - loss: 1.1055 - acc: 0.6371\n",
      "Epoch 30/50\n",
      "50000/50000 [==============================] - 6s 115us/step - loss: 1.0931 - acc: 0.6443\n",
      "Epoch 31/50\n",
      "50000/50000 [==============================] - 6s 115us/step - loss: 1.0950 - acc: 0.6428\n",
      "Epoch 32/50\n",
      "50000/50000 [==============================] - 6s 115us/step - loss: 1.0747 - acc: 0.6457\n",
      "Epoch 33/50\n",
      "50000/50000 [==============================] - 6s 115us/step - loss: 1.0754 - acc: 0.6482\n",
      "Epoch 34/50\n",
      "50000/50000 [==============================] - 6s 115us/step - loss: 1.0675 - acc: 0.6518\n",
      "Epoch 35/50\n",
      "50000/50000 [==============================] - 6s 118us/step - loss: 1.0599 - acc: 0.6537\n",
      "Epoch 36/50\n",
      "50000/50000 [==============================] - 6s 116us/step - loss: 1.0540 - acc: 0.6569\n",
      "Epoch 37/50\n",
      "50000/50000 [==============================] - 6s 117us/step - loss: 1.0459 - acc: 0.6571\n",
      "Epoch 38/50\n",
      "50000/50000 [==============================] - 6s 117us/step - loss: 1.0415 - acc: 0.6593\n",
      "Epoch 39/50\n",
      "50000/50000 [==============================] - 6s 117us/step - loss: 1.0317 - acc: 0.6631\n",
      "Epoch 40/50\n",
      "50000/50000 [==============================] - 6s 119us/step - loss: 1.0331 - acc: 0.6652\n",
      "Epoch 41/50\n",
      "50000/50000 [==============================] - 6s 118us/step - loss: 1.0288 - acc: 0.6667\n",
      "Epoch 42/50\n",
      "50000/50000 [==============================] - 6s 118us/step - loss: 1.0142 - acc: 0.6692\n",
      "Epoch 43/50\n",
      "50000/50000 [==============================] - 6s 120us/step - loss: 1.0158 - acc: 0.6718\n",
      "Epoch 44/50\n",
      "50000/50000 [==============================] - 6s 119us/step - loss: 1.0109 - acc: 0.6738\n",
      "Epoch 45/50\n",
      "50000/50000 [==============================] - 6s 122us/step - loss: 1.0056 - acc: 0.6773\n",
      "Epoch 46/50\n",
      "50000/50000 [==============================] - 6s 120us/step - loss: 0.9986 - acc: 0.6769\n",
      "Epoch 47/50\n",
      "50000/50000 [==============================] - 6s 121us/step - loss: 0.9909 - acc: 0.6809\n",
      "Epoch 48/50\n",
      "50000/50000 [==============================] - 6s 122us/step - loss: 0.9916 - acc: 0.6796\n",
      "Epoch 49/50\n",
      "50000/50000 [==============================] - 6s 120us/step - loss: 0.9836 - acc: 0.6835\n",
      "Epoch 50/50\n",
      "50000/50000 [==============================] - 6s 123us/step - loss: 0.9924 - acc: 0.6824\n"
     ]
    },
    {
     "data": {
      "text/plain": [
       "<keras.callbacks.History at 0x12aeac438>"
      ]
     },
     "execution_count": 7,
     "metadata": {},
     "output_type": "execute_result"
    }
   ],
   "source": [
    "clf_model.fit(bottleneck_features_train, y_train, \n",
    "              batch_size=100, epochs=50, verbose=1)"
   ]
  },
  {
   "cell_type": "code",
   "execution_count": 21,
   "metadata": {},
   "outputs": [],
   "source": [
    "import numpy as np\n",
    "from matplotlib import pyplot as plt"
   ]
  },
  {
   "cell_type": "code",
   "execution_count": 22,
   "metadata": {},
   "outputs": [],
   "source": [
    "def predict_label(img_idx,show_proba=True):\n",
    "    plt.imshow(x_test[img_idx],aspect='auto')\n",
    "    plt.title(\"Image to be Labeled\")\n",
    "    plt.show()\n",
    "    print(\"Actual Class:{}\".format(np.nonzero(y_test[img_idx])[0][0]))\n",
    "\n",
    "    test_image =np.expand_dims(x_test[img_idx], axis=0)\n",
    "    bf = vgg_model.predict(test_image,verbose=0)\n",
    "    pred_label = clf_model.predict_classes(bf,batch_size=1,verbose=0)\n",
    "\n",
    "    print(\"Predicted Class:{}\".format(pred_label[0]))\n",
    "    if show_proba:\n",
    "        print(\"Predicted Probabilities\")\n",
    "        print(clf_model.predict_proba(bf))"
   ]
  },
  {
   "cell_type": "code",
   "execution_count": 25,
   "metadata": {},
   "outputs": [
    {
     "data": {
      "image/png": "[encoded data removed]",
      "text/plain": [
       "<Figure size 432x288 with 1 Axes>"
      ]
     },
     "metadata": {},
     "output_type": "display_data"
    },
    {
     "name": "stdout",
     "output_type": "stream",
     "text": [
      "Actual Class:6\n",
      "Predicted Class:6\n",
      "Predicted Probabilities\n",
      "[[0.00425594 0.00410257 0.07325516 0.18542951 0.1837368  0.13254578\n",
      "  0.37780175 0.02845585 0.00582204 0.00459461]]\n"
     ]
    }
   ],
   "source": [
    "img_idx = 5\n",
    "\n",
    "predict_label(img_idx)"
   ]
  },
  {
   "cell_type": "code",
   "execution_count": 26,
   "metadata": {},
   "outputs": [],
   "source": [
    "token = ''\n",
    "\n",
    "import telebot\n",
    "\n",
    "bot = telebot.TeleBot(token)\n",
    "    "
   ]
  },
  {
   "cell_type": "code",
   "execution_count": 27,
   "metadata": {},
   "outputs": [],
   "source": [
    "import PIL\n",
    "from PIL import Image\n",
    "import requests\n",
    "from io import BytesIO\n",
    "\n",
    "\n",
    "labels = [\n",
    "    'airplane', \n",
    "    'automobile',\n",
    "    'bird',\n",
    "    'cat',\n",
    "    'deer',\n",
    "    'dog',\n",
    "    'frog',\n",
    "    'horse',\n",
    "    'ship',\n",
    "    'truck'\n",
    "]\n",
    "\n",
    "def out_predict_label(url, message, show_proba=True): \n",
    "    bot.send_message(message.chat.id, \"downloading..\")\n",
    "    response = requests.get(url)\n",
    "    img = Image.open(BytesIO(response.content))\n",
    "    \n",
    "    bot.send_message(message.chat.id, \"resizing..\")\n",
    "    img = img.resize((32, 32), PIL.Image.ANTIALIAS)\n",
    "    img.save('resized_image.png')\n",
    "    \n",
    "    bot.send_message(message.chat.id, \"still wait\")\n",
    "    \n",
    "\n",
    "    plt.imshow(img,aspect='auto')\n",
    "    plt.title(\"Image to be Labeled\")\n",
    "    plt.show()\n",
    "    \n",
    "    bot.send_message(message.chat.id, \"started prediction..\")\n",
    "    test_image =np.expand_dims(img, axis=0)\n",
    "    bf = vgg_model.predict(test_image,verbose=0)\n",
    "    pred_label = clf_model.predict_classes(bf,batch_size=1,verbose=0)\n",
    "    \n",
    "    print(pred_label[0])\n",
    "    index = pred_label[0]\n",
    "    print(\"Predicted Class:{}\".format(pred_label[0]))\n",
    " \n",
    "    if show_proba:\n",
    "        print(\"Predicted Probabilities\")\n",
    "        print(clf_model.predict_proba(bf))\n",
    "        bot.send_message(message.chat.id, \"I think it is a \" + labels[index])\n",
    "  "
   ]
  },
  {
   "cell_type": "code",
   "execution_count": 28,
   "metadata": {},
   "outputs": [],
   "source": [
    "@bot.message_handler(content_types=[\"photo\"])\n",
    "def predict_image(message):\n",
    "    bot.send_message(message.chat.id, \"wait\")\n",
    "    img = message.photo\n",
    "    print (message.photo)\n",
    "    fileID = message.photo[-1].file_id\n",
    "    print ('fileID =', fileID)\n",
    "    file = bot.get_file(fileID)\n",
    "    print ('file.file_path =', file.file_path)\n",
    "    path = 'https://api.telegram.org/file/bot' + token +'/'+ file.file_path\n",
    "    out_predict_label(path, message)\n",
    "\n",
    "@bot.message_handler(content_types=['document', 'audio', 'text'])\n",
    "def response_to_not_photo(message):\n",
    "    bot.send_message(message.chat.id, \"Hey \" + message.chat.username + \" please send only photo\")\n"
   ]
  },
  {
   "cell_type": "code",
   "execution_count": 29,
   "metadata": {},
   "outputs": [
    {
     "name": "stdout",
     "output_type": "stream",
     "text": [
      "[<telebot.types.PhotoSize object at 0x12c5d57f0>, <telebot.types.PhotoSize object at 0x12c5d57b8>]\n",
      "fileID = AgADAgADcKkxGyg7yUnIw42B5Fft5lW0qw4ABKksMbMW4R5DCBMAAgI\n",
      "file.file_path = photos/file_6.jpg\n"
     ]
    },
    {
     "data": {
      "image/png": "[encoded data removed]",
      "text/plain": [
       "<Figure size 432x288 with 1 Axes>"
      ]
     },
     "metadata": {},
     "output_type": "display_data"
    },
    {
     "name": "stdout",
     "output_type": "stream",
     "text": [
      "4\n",
      "Predicted Class:4\n",
      "deer\n",
      "Predicted Probabilities\n",
      "[[3.4027395e-05 1.1420668e-08 1.6312040e-02 3.7553310e-03 9.5186597e-01\n",
      "  8.5912514e-03 2.9580560e-04 1.9143304e-02 1.2983752e-06 9.7209681e-07]]\n"
     ]
    }
   ],
   "source": [
    "if __name__ == '__main__':\n",
    "    bot.polling(none_stop=True)"
   ]
  },
  {
   "cell_type": "code",
   "execution_count": null,
   "metadata": {},
   "outputs": [],
   "source": []
  }
 ],
 "metadata": {
  "kernelspec": {
   "display_name": "prep",
   "language": "python",
   "name": "prep"
  },
  "language_info": {
   "codemirror_mode": {
    "name": "ipython",
    "version": 3
   },
   "file_extension": ".py",
   "mimetype": "text/x-python",
   "name": "python",
   "nbconvert_exporter": "python",
   "pygments_lexer": "ipython3",
   "version": "3.6.3"
  }
 },
 "nbformat": 4,
 "nbformat_minor": 2
}
